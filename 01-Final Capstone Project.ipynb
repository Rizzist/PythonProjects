{
 "cells": [
  {
   "cell_type": "markdown",
   "metadata": {
    "collapsed": true
   },
   "source": [
    "# Final Capstone Projects\n",
    "\n",
    "Please refer to the [**Final Capstone Projects**](http://nbviewer.jupyter.org/github/jmportilla/Complete-Python-Bootcamp/tree/master/Final%20Capstone%20Projects/) folder to get all the info on final capstone project ideas and possible solutions!"
   ]
  },
  {
   "cell_type": "code",
   "execution_count": 9,
   "metadata": {},
   "outputs": [
    {
     "name": "stdout",
     "output_type": "stream",
     "text": [
      "Type in a number to factorize: 427347883\n"
     ]
    }
   ],
   "source": [
    "while True:\n",
    "    try:\n",
    "        x = int(input(\"Type in a number to factorize: \"))\n",
    "        break\n",
    "    except:\n",
    "        print(\"That is not a number. Please try again!\")"
   ]
  },
  {
   "cell_type": "code",
   "execution_count": 10,
   "metadata": {},
   "outputs": [
    {
     "name": "stdout",
     "output_type": "stream",
     "text": [
      "61 appears 1 times.\n",
      "7005703 appears 1 times.\n",
      "CPU times: user 2.16 s, sys: 8.36 ms, total: 2.17 s\n",
      "Wall time: 2.26 s\n"
     ]
    }
   ],
   "source": [
    "%%time\n",
    "p = []\n",
    "q = []\n",
    "current = 2\n",
    "while (x != 1):\n",
    "    w = int(x+1)\n",
    "    for i in range(current, w):\n",
    "        counted = False\n",
    "        while (x % i == 0):\n",
    "            counted = True\n",
    "            if i in q:\n",
    "                p[len(p)-1][1] += 1\n",
    "            else:\n",
    "                q.append(i)\n",
    "                p.append([i, 1])\n",
    "            x /= i\n",
    "        if counted:\n",
    "            current = i\n",
    "            break\n",
    "for i in p:\n",
    "    print(str(i[0]) + \" appears \" + str(i[1]) + \" times.\")"
   ]
  },
  {
   "cell_type": "code",
   "execution_count": null,
   "metadata": {},
   "outputs": [],
   "source": []
  }
 ],
 "metadata": {
  "kernelspec": {
   "display_name": "Python 3",
   "language": "python",
   "name": "python3"
  },
  "language_info": {
   "codemirror_mode": {
    "name": "ipython",
    "version": 3
   },
   "file_extension": ".py",
   "mimetype": "text/x-python",
   "name": "python",
   "nbconvert_exporter": "python",
   "pygments_lexer": "ipython3",
   "version": "3.7.6"
  }
 },
 "nbformat": 4,
 "nbformat_minor": 1
}
